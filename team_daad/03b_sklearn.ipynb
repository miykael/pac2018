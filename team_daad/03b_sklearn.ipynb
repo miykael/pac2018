{
 "cells": [
  {
   "cell_type": "markdown",
   "metadata": {},
   "source": [
    "# Data analysis - `scikit-learn`"
   ]
  },
  {
   "cell_type": "code",
   "execution_count": null,
   "metadata": {
    "collapsed": true
   },
   "outputs": [],
   "source": [
    "import numpy as np\n",
    "import pandas as pd\n",
    "from scipy.stats import zscore"
   ]
  },
  {
   "cell_type": "markdown",
   "metadata": {},
   "source": [
    "# Create dataset"
   ]
  },
  {
   "cell_type": "code",
   "execution_count": null,
   "metadata": {
    "collapsed": true
   },
   "outputs": [],
   "source": [
    "def read_dataset(filename, outlier_thr=5):\n",
    "\n",
    "    # Read csv file\n",
    "    df = pd.read_csv(filename)\n",
    "\n",
    "    # extract relevant variables\n",
    "    sub_id = df['PAC_ID']\n",
    "    df = df.drop('PAC_ID', 1)\n",
    "    header = df.keys()\n",
    "    \n",
    "    # Clean dataset - drop subjects with values above `outlier_thr` STD\n",
    "    outliers = np.sum((np.abs(zscore(df)) > outlier_thr), 1) != 0\n",
    "    print('%d outliers detected.' % outliers.sum())\n",
    "    data = np.array(df.drop(np.where(outliers)[0]))\n",
    "    sub_id = sub_id[np.invert(outliers)]\n",
    "    \n",
    "    # zscore data\n",
    "    data = zscore(data)\n",
    "\n",
    "    # Reset Gender and Scanner values to nominal values\n",
    "    data[:,0] = (data[:,0]>0) + 1\n",
    "    data[:,2] = (data[:,2]>0) + 1\n",
    "    data[:,4] = [np.where(i==np.unique(data[:,4]))[0][0] + 1for i in data[:,4]]\n",
    "\n",
    "    return pd.DataFrame(data, columns=header), sub_id"
   ]
  },
  {
   "cell_type": "code",
   "execution_count": null,
   "metadata": {},
   "outputs": [
    {
     "name": "stdout",
     "output_type": "stream",
     "text": [
      "8 outliers detected.\n"
     ]
    },
    {
     "data": {
      "text/html": [
       "<div>\n",
       "<style scoped>\n",
       "    .dataframe tbody tr th:only-of-type {\n",
       "        vertical-align: middle;\n",
       "    }\n",
       "\n",
       "    .dataframe tbody tr th {\n",
       "        vertical-align: top;\n",
       "    }\n",
       "\n",
       "    .dataframe thead th {\n",
       "        text-align: right;\n",
       "    }\n",
       "</style>\n",
       "<table border=\"1\" class=\"dataframe\">\n",
       "  <thead>\n",
       "    <tr style=\"text-align: right;\">\n",
       "      <th></th>\n",
       "      <th>Label</th>\n",
       "      <th>Age</th>\n",
       "      <th>Gender</th>\n",
       "      <th>TIV</th>\n",
       "      <th>Scanner</th>\n",
       "      <th>Tvoxels</th>\n",
       "      <th>Tmean</th>\n",
       "      <th>Tmedian</th>\n",
       "      <th>Tstd</th>\n",
       "      <th>Tmax</th>\n",
       "      <th>...</th>\n",
       "      <th>Right_Cerebral_White_Matter</th>\n",
       "      <th>Right_Cerebral_Cortex</th>\n",
       "      <th>Right_Lateral_Ventricle</th>\n",
       "      <th>Right_Thalamus</th>\n",
       "      <th>Right_Caudate</th>\n",
       "      <th>Right_Putamen</th>\n",
       "      <th>Right_Pallidum</th>\n",
       "      <th>Right_Hippocampus</th>\n",
       "      <th>Right_Amygdala</th>\n",
       "      <th>Right_Accumbens</th>\n",
       "    </tr>\n",
       "  </thead>\n",
       "  <tbody>\n",
       "    <tr>\n",
       "      <th>0</th>\n",
       "      <td>1.0</td>\n",
       "      <td>1.610405</td>\n",
       "      <td>1.0</td>\n",
       "      <td>1.479924</td>\n",
       "      <td>2.0</td>\n",
       "      <td>-0.890455</td>\n",
       "      <td>1.091014</td>\n",
       "      <td>1.080367</td>\n",
       "      <td>1.034026</td>\n",
       "      <td>0.060878</td>\n",
       "      <td>...</td>\n",
       "      <td>1.093750</td>\n",
       "      <td>1.094903</td>\n",
       "      <td>1.037705</td>\n",
       "      <td>-0.896948</td>\n",
       "      <td>-0.255150</td>\n",
       "      <td>-0.724690</td>\n",
       "      <td>-0.269052</td>\n",
       "      <td>1.791264</td>\n",
       "      <td>1.591691</td>\n",
       "      <td>0.091529</td>\n",
       "    </tr>\n",
       "    <tr>\n",
       "      <th>1</th>\n",
       "      <td>1.0</td>\n",
       "      <td>-1.146076</td>\n",
       "      <td>1.0</td>\n",
       "      <td>-0.052883</td>\n",
       "      <td>1.0</td>\n",
       "      <td>1.134709</td>\n",
       "      <td>-0.118805</td>\n",
       "      <td>-0.147065</td>\n",
       "      <td>0.290905</td>\n",
       "      <td>0.904814</td>\n",
       "      <td>...</td>\n",
       "      <td>-0.060199</td>\n",
       "      <td>-0.013714</td>\n",
       "      <td>0.079673</td>\n",
       "      <td>0.634875</td>\n",
       "      <td>1.097503</td>\n",
       "      <td>0.176912</td>\n",
       "      <td>-0.143525</td>\n",
       "      <td>0.223282</td>\n",
       "      <td>0.283818</td>\n",
       "      <td>-0.110870</td>\n",
       "    </tr>\n",
       "    <tr>\n",
       "      <th>2</th>\n",
       "      <td>1.0</td>\n",
       "      <td>-0.200997</td>\n",
       "      <td>2.0</td>\n",
       "      <td>-0.322187</td>\n",
       "      <td>2.0</td>\n",
       "      <td>-0.910314</td>\n",
       "      <td>0.213228</td>\n",
       "      <td>0.466651</td>\n",
       "      <td>-0.390523</td>\n",
       "      <td>0.488056</td>\n",
       "      <td>...</td>\n",
       "      <td>0.167886</td>\n",
       "      <td>0.162364</td>\n",
       "      <td>0.443724</td>\n",
       "      <td>0.107536</td>\n",
       "      <td>-0.337023</td>\n",
       "      <td>-0.458773</td>\n",
       "      <td>-0.199329</td>\n",
       "      <td>0.879846</td>\n",
       "      <td>0.603997</td>\n",
       "      <td>0.182364</td>\n",
       "    </tr>\n",
       "    <tr>\n",
       "      <th>3</th>\n",
       "      <td>1.0</td>\n",
       "      <td>-0.200997</td>\n",
       "      <td>1.0</td>\n",
       "      <td>1.526994</td>\n",
       "      <td>3.0</td>\n",
       "      <td>-0.888128</td>\n",
       "      <td>1.178024</td>\n",
       "      <td>1.141739</td>\n",
       "      <td>1.173458</td>\n",
       "      <td>0.863138</td>\n",
       "      <td>...</td>\n",
       "      <td>1.022908</td>\n",
       "      <td>1.000870</td>\n",
       "      <td>2.157792</td>\n",
       "      <td>1.573471</td>\n",
       "      <td>2.835140</td>\n",
       "      <td>1.080137</td>\n",
       "      <td>0.815276</td>\n",
       "      <td>0.185643</td>\n",
       "      <td>0.730864</td>\n",
       "      <td>2.010200</td>\n",
       "    </tr>\n",
       "    <tr>\n",
       "      <th>4</th>\n",
       "      <td>1.0</td>\n",
       "      <td>2.004188</td>\n",
       "      <td>2.0</td>\n",
       "      <td>-0.934370</td>\n",
       "      <td>1.0</td>\n",
       "      <td>1.027570</td>\n",
       "      <td>-2.074238</td>\n",
       "      <td>-2.049584</td>\n",
       "      <td>-2.070608</td>\n",
       "      <td>-0.824733</td>\n",
       "      <td>...</td>\n",
       "      <td>-2.148225</td>\n",
       "      <td>-2.165083</td>\n",
       "      <td>-1.193547</td>\n",
       "      <td>-1.593558</td>\n",
       "      <td>-2.270355</td>\n",
       "      <td>-1.290505</td>\n",
       "      <td>-1.337832</td>\n",
       "      <td>-1.919742</td>\n",
       "      <td>-2.127827</td>\n",
       "      <td>-1.856324</td>\n",
       "    </tr>\n",
       "  </tbody>\n",
       "</table>\n",
       "<p>5 rows × 127 columns</p>\n",
       "</div>"
      ],
      "text/plain": [
       "   Label       Age  Gender       TIV  Scanner   Tvoxels     Tmean   Tmedian  \\\n",
       "0    1.0  1.610405     1.0  1.479924      2.0 -0.890455  1.091014  1.080367   \n",
       "1    1.0 -1.146076     1.0 -0.052883      1.0  1.134709 -0.118805 -0.147065   \n",
       "2    1.0 -0.200997     2.0 -0.322187      2.0 -0.910314  0.213228  0.466651   \n",
       "3    1.0 -0.200997     1.0  1.526994      3.0 -0.888128  1.178024  1.141739   \n",
       "4    1.0  2.004188     2.0 -0.934370      1.0  1.027570 -2.074238 -2.049584   \n",
       "\n",
       "       Tstd      Tmax       ...         Right_Cerebral_White_Matter  \\\n",
       "0  1.034026  0.060878       ...                            1.093750   \n",
       "1  0.290905  0.904814       ...                           -0.060199   \n",
       "2 -0.390523  0.488056       ...                            0.167886   \n",
       "3  1.173458  0.863138       ...                            1.022908   \n",
       "4 -2.070608 -0.824733       ...                           -2.148225   \n",
       "\n",
       "   Right_Cerebral_Cortex  Right_Lateral_Ventricle  Right_Thalamus  \\\n",
       "0               1.094903                 1.037705       -0.896948   \n",
       "1              -0.013714                 0.079673        0.634875   \n",
       "2               0.162364                 0.443724        0.107536   \n",
       "3               1.000870                 2.157792        1.573471   \n",
       "4              -2.165083                -1.193547       -1.593558   \n",
       "\n",
       "   Right_Caudate  Right_Putamen  Right_Pallidum  Right_Hippocampus  \\\n",
       "0      -0.255150      -0.724690       -0.269052           1.791264   \n",
       "1       1.097503       0.176912       -0.143525           0.223282   \n",
       "2      -0.337023      -0.458773       -0.199329           0.879846   \n",
       "3       2.835140       1.080137        0.815276           0.185643   \n",
       "4      -2.270355      -1.290505       -1.337832          -1.919742   \n",
       "\n",
       "   Right_Amygdala  Right_Accumbens  \n",
       "0        1.591691         0.091529  \n",
       "1        0.283818        -0.110870  \n",
       "2        0.603997         0.182364  \n",
       "3        0.730864         2.010200  \n",
       "4       -2.127827        -1.856324  \n",
       "\n",
       "[5 rows x 127 columns]"
      ]
     },
     "execution_count": null,
     "metadata": {},
     "output_type": "execute_result"
    }
   ],
   "source": [
    "data, sub_id = read_dataset('data/PAC2018_Covariates_detailed.csv', outlier_thr=5)\n",
    "data.head()"
   ]
  },
  {
   "cell_type": "markdown",
   "metadata": {},
   "source": [
    "# `sklearn`"
   ]
  },
  {
   "cell_type": "code",
   "execution_count": null,
   "metadata": {
    "collapsed": true
   },
   "outputs": [],
   "source": [
    "from sklearn.model_selection import cross_val_score"
   ]
  },
  {
   "cell_type": "code",
   "execution_count": null,
   "metadata": {
    "collapsed": true
   },
   "outputs": [],
   "source": [
    "def crossvalidation(data, clf):\n",
    "    \n",
    "    clf = clf(class_weight=\"balanced\")\n",
    "\n",
    "    for r in [3, 6, 9]:\n",
    "        print('CV: %02d' % r)\n",
    "        \n",
    "        for query in ['Scanner!=0', 'Scanner!=1', 'Scanner==1']:\n",
    "\n",
    "            data_skl = data.query(query)\n",
    "            y = data_skl['Label']\n",
    "            X = np.array(data_skl.drop('Label', 1))\n",
    "\n",
    "            res = cross_val_score(clf, X, y, cv=r)  # accuracy\n",
    "            print('\\t%s\\t%s' % (query, np.round(res.mean() * 100, 3)))"
   ]
  },
  {
   "cell_type": "code",
   "execution_count": null,
   "metadata": {},
   "outputs": [
    {
     "name": "stdout",
     "output_type": "stream",
     "text": [
      "CV: 03\n",
      "\tScanner!=0\t60.033\n",
      "\tScanner!=1\t54.704\n",
      "\tScanner==1\t57.04\n",
      "CV: 06\n",
      "\tScanner!=0\t61.937\n",
      "\tScanner!=1\t56.561\n",
      "\tScanner==1\t58.496\n",
      "CV: 09\n",
      "\tScanner!=0\t60.812\n",
      "\tScanner!=1\t53.763\n",
      "\tScanner==1\t56.915\n"
     ]
    }
   ],
   "source": [
    "from sklearn.svm import LinearSVC\n",
    "crossvalidation(data, LinearSVC)"
   ]
  },
  {
   "cell_type": "code",
   "execution_count": null,
   "metadata": {},
   "outputs": [
    {
     "name": "stdout",
     "output_type": "stream",
     "text": [
      "CV: 03\n",
      "\tScanner!=0\t60.258\n",
      "\tScanner!=1\t54.914\n",
      "\tScanner==1\t65.483\n",
      "CV: 06\n",
      "\tScanner!=0\t59.866\n",
      "\tScanner!=1\t55.329\n",
      "\tScanner==1\t65.843\n",
      "CV: 09\n",
      "\tScanner!=0\t59.811\n",
      "\tScanner!=1\t55.225\n",
      "\tScanner==1\t65.486\n"
     ]
    }
   ],
   "source": [
    "from sklearn.svm import NuSVC\n",
    "crossvalidation(data, NuSVC)"
   ]
  },
  {
   "cell_type": "code",
   "execution_count": null,
   "metadata": {},
   "outputs": [
    {
     "name": "stdout",
     "output_type": "stream",
     "text": [
      "CV: 03\n",
      "\tScanner!=0\t59.978\n",
      "\tScanner!=1\t55.426\n",
      "\tScanner==1\t55.938\n",
      "CV: 06\n",
      "\tScanner!=0\t61.601\n",
      "\tScanner!=1\t55.217\n",
      "\tScanner==1\t59.109\n",
      "CV: 09\n",
      "\tScanner!=0\t61.318\n",
      "\tScanner!=1\t54.066\n",
      "\tScanner==1\t57.405\n"
     ]
    }
   ],
   "source": [
    "from sklearn.linear_model import LogisticRegression\n",
    "crossvalidation(data, LogisticRegression)"
   ]
  },
  {
   "cell_type": "code",
   "execution_count": null,
   "metadata": {},
   "outputs": [
    {
     "name": "stdout",
     "output_type": "stream",
     "text": [
      "CV: 03\n",
      "\tScanner!=0\t60.594\n",
      "\tScanner!=1\t57.908\n",
      "\tScanner==1\t69.277\n",
      "CV: 06\n",
      "\tScanner!=0\t60.983\n",
      "\tScanner!=1\t53.049\n",
      "\tScanner==1\t70.015\n",
      "CV: 09\n",
      "\tScanner!=0\t61.541\n",
      "\tScanner!=1\t56.451\n",
      "\tScanner==1\t70.014\n"
     ]
    }
   ],
   "source": [
    "from sklearn.ensemble import RandomForestClassifier\n",
    "crossvalidation(data, RandomForestClassifier)"
   ]
  }
 ],
 "metadata": {
  "anaconda-cloud": {},
  "kernelspec": {
   "display_name": "Python [default]",
   "language": "python",
   "name": "python3"
  },
  "language_info": {
   "codemirror_mode": {
    "name": "ipython",
    "version": 3
   },
   "file_extension": ".py",
   "mimetype": "text/x-python",
   "name": "python",
   "nbconvert_exporter": "python",
   "pygments_lexer": "ipython3",
   "version": "3.6.4"
  }
 },
 "nbformat": 4,
 "nbformat_minor": 2
}
