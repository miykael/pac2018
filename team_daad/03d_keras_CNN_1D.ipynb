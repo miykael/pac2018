{
 "cells": [
  {
   "cell_type": "markdown",
   "metadata": {},
   "source": [
    "# Data analysis - `keras`"
   ]
  },
  {
   "cell_type": "code",
   "execution_count": null,
   "metadata": {
    "collapsed": true
   },
   "outputs": [],
   "source": [
    "import os\n",
    "import numpy as np\n",
    "import pickle\n",
    "import nibabel as nb\n",
    "import pandas as pd\n",
    "from scipy.stats import zscore\n",
    "from keras import layers, models, optimizers, regularizers\n",
    "from random import shuffle\n",
    "from sklearn import decomposition"
   ]
  },
  {
   "cell_type": "markdown",
   "metadata": {},
   "source": [
    "# Create dataset"
   ]
  },
  {
   "cell_type": "code",
   "execution_count": null,
   "metadata": {
    "collapsed": true
   },
   "outputs": [],
   "source": [
    "def read_dataset(filename, n_components=100):\n",
    "\n",
    "    # Read csv file\n",
    "    df = pd.read_csv(filename)\n",
    "\n",
    "    # extract relevant variables\n",
    "    sub_id = np.array(df['PAC_ID'])\n",
    "    label = np.array(df['Label'] - 1)\n",
    "    scanner = np.array(df['Scanner'])\n",
    "    \n",
    "    # split into input (X) and output (Y) variables\n",
    "    df = df.drop(['Scanner','Label', 'PAC_ID'], 1)\n",
    "    ica = decomposition.FastICA(n_components=n_components)\n",
    "    data = np.array(df)\n",
    "    ica.fit(data)\n",
    "    data = ica.transform(data)\n",
    "\n",
    "    return data, sub_id, label, scanner"
   ]
  },
  {
   "cell_type": "code",
   "execution_count": null,
   "metadata": {
    "collapsed": true
   },
   "outputs": [],
   "source": [
    "n_components = 100\n",
    "data, sub_id, label, scanner = read_dataset('data/PAC2018_Covariates_pooling_red10_max.csv', n_components)"
   ]
  },
  {
   "cell_type": "markdown",
   "metadata": {},
   "source": [
    "# Create dataset (select dataset, balance it and divide train and validation)"
   ]
  },
  {
   "cell_type": "code",
   "execution_count": null,
   "metadata": {
    "collapsed": true
   },
   "outputs": [],
   "source": [
    "def balance_dataset(sub_id, labels, data):\n",
    "    max_label_size = np.min([np.sum(lab == labels) \n",
    "                             for lab in np.unique(labels)])\n",
    "\n",
    "    labels_1 = np.where(labels == 0)[0]\n",
    "    np.random.shuffle(labels_1)\n",
    "    labels_1 = labels_1[:max_label_size]\n",
    "\n",
    "    labels_2 = np.where(labels == 1)[0]\n",
    "    np.random.shuffle(labels_2)\n",
    "    labels_2 = labels_2[:max_label_size]\n",
    "\n",
    "    new_data_id = np.hstack((labels_1, labels_2))\n",
    "    np.random.shuffle(new_data_id)\n",
    "    labels = labels[new_data_id]\n",
    "    sub_id = sub_id[new_data_id]\n",
    "    data = data[new_data_id]\n",
    "\n",
    "    return (sub_id, labels, data)"
   ]
  },
  {
   "cell_type": "code",
   "execution_count": null,
   "metadata": {
    "collapsed": true
   },
   "outputs": [],
   "source": [
    "def get_train_valid_set(sub_id, label, data, scanner, group='123', train_ratio=0.8):\n",
    "    \n",
    "    selecter = [str(int(d)) in group for d in scanner]\n",
    "\n",
    "    group_sub, group_label, group_data = balance_dataset(\n",
    "        sub_id[selecter], label[selecter], np.array(data[selecter]))\n",
    "    \n",
    "    \n",
    "    train_size = int(len(group_sub) * train_ratio)\n",
    "    valid_size = len(group_sub) - train_size\n",
    "\n",
    "    counter1 = 0\n",
    "    counter2 = 0\n",
    "    train_list = []\n",
    "\n",
    "    for i, s in enumerate(group_sub):\n",
    "        if counter1 < (train_size / 2) and group_label[i] == 0:\n",
    "            train_list.append(s)\n",
    "            counter1 += 1\n",
    "        elif counter2 < (train_size / 2) and group_label[i] == 1:\n",
    "            train_list.append(s)\n",
    "            counter2 += 1\n",
    "\n",
    "    selecter = np.array([True if e in train_list else False for i, e in enumerate(group_sub)])\n",
    "\n",
    "    train_list = group_sub[selecter]\n",
    "    valid_list = group_sub[np.invert(selecter)]\n",
    "    \n",
    "    return train_list, valid_list, group_sub, group_label, group_data"
   ]
  },
  {
   "cell_type": "markdown",
   "metadata": {},
   "source": [
    "# `Keras` model"
   ]
  },
  {
   "cell_type": "code",
   "execution_count": null,
   "metadata": {
    "collapsed": true
   },
   "outputs": [],
   "source": [
    "def data_gen(fileList, batch):\n",
    "\n",
    "    while True:\n",
    "        for r in range(0, len(fileList), batch):\n",
    "\n",
    "            batch_data = []\n",
    "            batch_label = []\n",
    "\n",
    "            for i in range(batch):\n",
    "                if r + i >= len(fileList):\n",
    "                    break\n",
    "                else:\n",
    "\n",
    "                    patientID = fileList[r]\n",
    "\n",
    "                    # Get data for each subject\n",
    "                    batch_data.append(group_data[group_sub == patientID][0])\n",
    "\n",
    "                    # Get data for each label\n",
    "                    labelID = group_label[group_sub == patientID]\n",
    "                    batch_label.append(labelID)\n",
    "\n",
    "            yield (np.array(batch_data), np.array(batch_label))"
   ]
  },
  {
   "cell_type": "code",
   "execution_count": null,
   "metadata": {},
   "outputs": [
    {
     "name": "stdout",
     "output_type": "stream",
     "text": [
      "_________________________________________________________________\n",
      "Layer (type)                 Output Shape              Param #   \n",
      "=================================================================\n",
      "input (Dense)                (None, 64)                6464      \n",
      "_________________________________________________________________\n",
      "dense_4 (Dense)              (None, 32)                2080      \n",
      "_________________________________________________________________\n",
      "output (Dense)               (None, 1)                 33        \n",
      "=================================================================\n",
      "Total params: 8,577\n",
      "Trainable params: 8,577\n",
      "Non-trainable params: 0\n",
      "_________________________________________________________________\n"
     ]
    }
   ],
   "source": [
    "# Neural network definition\n",
    "model = models.Sequential()\n",
    "\n",
    "model.add(layers.Dense(64, activation='relu', name='input',\n",
    "                       input_shape=(n_components,), batch_size=None))\n",
    "model.add(layers.Dense(1, activation='sigmoid', name='output'))\n",
    "\n",
    "model.summary()"
   ]
  },
  {
   "cell_type": "code",
   "execution_count": null,
   "metadata": {
    "collapsed": true
   },
   "outputs": [],
   "source": [
    "# Batch size\n",
    "batch_size = 25\n",
    "\n",
    "# Training to Validation set ratio\n",
    "train_ratio=0.8"
   ]
  },
  {
   "cell_type": "code",
   "execution_count": null,
   "metadata": {
    "collapsed": true
   },
   "outputs": [],
   "source": [
    "# Create Groups\n",
    "group_id = '123'\n",
    "train_list, valid_list, group_sub, group_label, group_data = get_train_valid_set(\n",
    "    sub_id, label, data, scanner, group=group_id, train_ratio=0.8)"
   ]
  },
  {
   "cell_type": "code",
   "execution_count": null,
   "metadata": {
    "collapsed": true
   },
   "outputs": [],
   "source": [
    "model.compile(optimizer=optimizers.RMSprop(lr=1e-5),\n",
    "              loss='binary_crossentropy',\n",
    "              metrics=['binary_accuracy'])"
   ]
  },
  {
   "cell_type": "code",
   "execution_count": null,
   "metadata": {
    "scrolled": true
   },
   "outputs": [
    {
     "name": "stdout",
     "output_type": "stream",
     "text": [
      "Epoch 1/200\n",
      "49/49 [==============================] - 1s 12ms/step - loss: 0.6930 - binary_accuracy: 0.4491 - val_loss: 0.6896 - val_binary_accuracy: 0.5757\n",
      "Epoch 2/200\n",
      "49/49 [==============================] - 0s 6ms/step - loss: 0.6929 - binary_accuracy: 0.4491 - val_loss: 0.6895 - val_binary_accuracy: 0.5757\n",
      "Epoch 3/200\n",
      "49/49 [==============================] - 0s 5ms/step - loss: 0.6928 - binary_accuracy: 0.4491 - val_loss: 0.6895 - val_binary_accuracy: 0.5757\n",
      "Epoch 4/200\n",
      "49/49 [==============================] - 0s 5ms/step - loss: 0.6927 - binary_accuracy: 0.4491 - val_loss: 0.6894 - val_binary_accuracy: 0.5757\n",
      "Epoch 5/200\n",
      "49/49 [==============================] - 0s 6ms/step - loss: 0.6925 - binary_accuracy: 0.4695 - val_loss: 0.6894 - val_binary_accuracy: 0.5757\n",
      "Epoch 6/200\n",
      "49/49 [==============================] - 0s 6ms/step - loss: 0.6924 - binary_accuracy: 0.4899 - val_loss: 0.6893 - val_binary_accuracy: 0.5757\n",
      "Epoch 7/200\n",
      "49/49 [==============================] - 0s 6ms/step - loss: 0.6923 - binary_accuracy: 0.5103 - val_loss: 0.6893 - val_binary_accuracy: 0.5757\n",
      "Epoch 8/200\n",
      "49/49 [==============================] - 0s 6ms/step - loss: 0.6922 - binary_accuracy: 0.5103 - val_loss: 0.6892 - val_binary_accuracy: 0.5757\n",
      "Epoch 9/200\n",
      "49/49 [==============================] - 0s 5ms/step - loss: 0.6921 - binary_accuracy: 0.5305 - val_loss: 0.6892 - val_binary_accuracy: 0.5757\n",
      "Epoch 10/200\n",
      "49/49 [==============================] - 0s 5ms/step - loss: 0.6920 - binary_accuracy: 0.5305 - val_loss: 0.6891 - val_binary_accuracy: 0.5757\n",
      "Epoch 11/200\n",
      "49/49 [==============================] - 0s 6ms/step - loss: 0.6918 - binary_accuracy: 0.5305 - val_loss: 0.6890 - val_binary_accuracy: 0.5757\n",
      "Epoch 12/200\n",
      "49/49 [==============================] - 0s 6ms/step - loss: 0.6917 - binary_accuracy: 0.5305 - val_loss: 0.6890 - val_binary_accuracy: 0.5757\n",
      "Epoch 13/200\n",
      "49/49 [==============================] - 0s 6ms/step - loss: 0.6916 - binary_accuracy: 0.5305 - val_loss: 0.6889 - val_binary_accuracy: 0.5757\n",
      "Epoch 14/200\n",
      "49/49 [==============================] - 0s 5ms/step - loss: 0.6915 - binary_accuracy: 0.5509 - val_loss: 0.6889 - val_binary_accuracy: 0.5757\n",
      "Epoch 15/200\n",
      "49/49 [==============================] - 0s 5ms/step - loss: 0.6914 - binary_accuracy: 0.5509 - val_loss: 0.6888 - val_binary_accuracy: 0.5757\n",
      "Epoch 16/200\n",
      "49/49 [==============================] - 0s 6ms/step - loss: 0.6912 - binary_accuracy: 0.5509 - val_loss: 0.6888 - val_binary_accuracy: 0.5757\n",
      "Epoch 17/200\n",
      "49/49 [==============================] - 0s 6ms/step - loss: 0.6911 - binary_accuracy: 0.5509 - val_loss: 0.6887 - val_binary_accuracy: 0.5757\n",
      "Epoch 18/200\n",
      "49/49 [==============================] - 0s 5ms/step - loss: 0.6910 - binary_accuracy: 0.5509 - val_loss: 0.6887 - val_binary_accuracy: 0.5757\n",
      "Epoch 19/200\n",
      "49/49 [==============================] - 0s 6ms/step - loss: 0.6909 - binary_accuracy: 0.5714 - val_loss: 0.6886 - val_binary_accuracy: 0.5757\n",
      "Epoch 20/200\n",
      "49/49 [==============================] - 0s 5ms/step - loss: 0.6908 - binary_accuracy: 0.5714 - val_loss: 0.6886 - val_binary_accuracy: 0.5888\n",
      "Epoch 21/200\n",
      "49/49 [==============================] - 0s 6ms/step - loss: 0.6907 - binary_accuracy: 0.5918 - val_loss: 0.6885 - val_binary_accuracy: 0.5888\n",
      "Epoch 22/200\n",
      "49/49 [==============================] - 0s 6ms/step - loss: 0.6906 - binary_accuracy: 0.5918 - val_loss: 0.6884 - val_binary_accuracy: 0.5888\n",
      "Epoch 23/200\n",
      "49/49 [==============================] - 0s 6ms/step - loss: 0.6904 - binary_accuracy: 0.5918 - val_loss: 0.6884 - val_binary_accuracy: 0.5888\n",
      "Epoch 24/200\n",
      "49/49 [==============================] - 0s 6ms/step - loss: 0.6903 - binary_accuracy: 0.5918 - val_loss: 0.6883 - val_binary_accuracy: 0.5888\n",
      "Epoch 25/200\n",
      "49/49 [==============================] - 0s 6ms/step - loss: 0.6902 - binary_accuracy: 0.6122 - val_loss: 0.6883 - val_binary_accuracy: 0.5888\n",
      "Epoch 26/200\n",
      "49/49 [==============================] - 0s 6ms/step - loss: 0.6901 - binary_accuracy: 0.6122 - val_loss: 0.6882 - val_binary_accuracy: 0.5888\n",
      "Epoch 27/200\n",
      "49/49 [==============================] - 0s 6ms/step - loss: 0.6900 - binary_accuracy: 0.6326 - val_loss: 0.6882 - val_binary_accuracy: 0.5888\n",
      "Epoch 28/200\n",
      "49/49 [==============================] - 0s 6ms/step - loss: 0.6899 - binary_accuracy: 0.6326 - val_loss: 0.6881 - val_binary_accuracy: 0.5888\n",
      "Epoch 29/200\n",
      "49/49 [==============================] - 0s 7ms/step - loss: 0.6897 - binary_accuracy: 0.6530 - val_loss: 0.6881 - val_binary_accuracy: 0.5888\n",
      "Epoch 30/200\n",
      "49/49 [==============================] - 0s 6ms/step - loss: 0.6896 - binary_accuracy: 0.6530 - val_loss: 0.6880 - val_binary_accuracy: 0.5888\n",
      "Epoch 31/200\n",
      "49/49 [==============================] - 0s 6ms/step - loss: 0.6895 - binary_accuracy: 0.6734 - val_loss: 0.6880 - val_binary_accuracy: 0.5888\n",
      "Epoch 32/200\n",
      "49/49 [==============================] - 0s 6ms/step - loss: 0.6894 - binary_accuracy: 0.6734 - val_loss: 0.6879 - val_binary_accuracy: 0.5888\n",
      "Epoch 33/200\n",
      "49/49 [==============================] - 0s 6ms/step - loss: 0.6893 - binary_accuracy: 0.6734 - val_loss: 0.6878 - val_binary_accuracy: 0.5888\n",
      "Epoch 34/200\n",
      "49/49 [==============================] - 0s 6ms/step - loss: 0.6892 - binary_accuracy: 0.6938 - val_loss: 0.6878 - val_binary_accuracy: 0.5888\n",
      "Epoch 35/200\n",
      "49/49 [==============================] - 0s 6ms/step - loss: 0.6891 - binary_accuracy: 0.7142 - val_loss: 0.6877 - val_binary_accuracy: 0.5888\n",
      "Epoch 36/200\n",
      "49/49 [==============================] - 0s 7ms/step - loss: 0.6889 - binary_accuracy: 0.7142 - val_loss: 0.6877 - val_binary_accuracy: 0.5888\n",
      "Epoch 37/200\n",
      "49/49 [==============================] - 0s 6ms/step - loss: 0.6888 - binary_accuracy: 0.7142 - val_loss: 0.6876 - val_binary_accuracy: 0.5888\n",
      "Epoch 38/200\n",
      "49/49 [==============================] - 0s 6ms/step - loss: 0.6887 - binary_accuracy: 0.7142 - val_loss: 0.6876 - val_binary_accuracy: 0.5888\n",
      "Epoch 39/200\n",
      "49/49 [==============================] - 0s 6ms/step - loss: 0.6886 - binary_accuracy: 0.7346 - val_loss: 0.6876 - val_binary_accuracy: 0.5888\n",
      "Epoch 40/200\n",
      "49/49 [==============================] - 0s 6ms/step - loss: 0.6885 - binary_accuracy: 0.7346 - val_loss: 0.6875 - val_binary_accuracy: 0.5888\n",
      "Epoch 41/200\n",
      "49/49 [==============================] - 0s 6ms/step - loss: 0.6884 - binary_accuracy: 0.7346 - val_loss: 0.6875 - val_binary_accuracy: 0.5888\n",
      "Epoch 42/200\n",
      "49/49 [==============================] - 0s 6ms/step - loss: 0.6883 - binary_accuracy: 0.7346 - val_loss: 0.6874 - val_binary_accuracy: 0.5888\n",
      "Epoch 43/200\n",
      "49/49 [==============================] - 0s 6ms/step - loss: 0.6882 - binary_accuracy: 0.7346 - val_loss: 0.6874 - val_binary_accuracy: 0.5888\n",
      "Epoch 44/200\n",
      "49/49 [==============================] - 0s 6ms/step - loss: 0.6880 - binary_accuracy: 0.7346 - val_loss: 0.6873 - val_binary_accuracy: 0.5888\n",
      "Epoch 45/200\n",
      "49/49 [==============================] - 0s 6ms/step - loss: 0.6879 - binary_accuracy: 0.7346 - val_loss: 0.6873 - val_binary_accuracy: 0.5888\n",
      "Epoch 46/200\n",
      "49/49 [==============================] - 0s 6ms/step - loss: 0.6878 - binary_accuracy: 0.7346 - val_loss: 0.6872 - val_binary_accuracy: 0.5888\n",
      "Epoch 47/200\n",
      "49/49 [==============================] - 0s 6ms/step - loss: 0.6877 - binary_accuracy: 0.7346 - val_loss: 0.6872 - val_binary_accuracy: 0.5888\n",
      "Epoch 48/200\n",
      "49/49 [==============================] - 0s 6ms/step - loss: 0.6876 - binary_accuracy: 0.7346 - val_loss: 0.6872 - val_binary_accuracy: 0.5888\n",
      "Epoch 49/200\n",
      "49/49 [==============================] - 0s 6ms/step - loss: 0.6875 - binary_accuracy: 0.7346 - val_loss: 0.6871 - val_binary_accuracy: 0.5888\n",
      "Epoch 50/200\n",
      "49/49 [==============================] - 0s 6ms/step - loss: 0.6874 - binary_accuracy: 0.7551 - val_loss: 0.6871 - val_binary_accuracy: 0.5888\n",
      "Epoch 51/200\n",
      "49/49 [==============================] - 0s 6ms/step - loss: 0.6873 - binary_accuracy: 0.7551 - val_loss: 0.6870 - val_binary_accuracy: 0.5888\n",
      "Epoch 52/200\n",
      "49/49 [==============================] - 0s 6ms/step - loss: 0.6872 - binary_accuracy: 0.7755 - val_loss: 0.6870 - val_binary_accuracy: 0.5888\n",
      "Epoch 53/200\n",
      "49/49 [==============================] - 0s 6ms/step - loss: 0.6871 - binary_accuracy: 0.7755 - val_loss: 0.6870 - val_binary_accuracy: 0.5888\n",
      "Epoch 54/200\n",
      "49/49 [==============================] - 0s 6ms/step - loss: 0.6870 - binary_accuracy: 0.7755 - val_loss: 0.6869 - val_binary_accuracy: 0.5888\n",
      "Epoch 55/200\n",
      "49/49 [==============================] - 0s 5ms/step - loss: 0.6869 - binary_accuracy: 0.7755 - val_loss: 0.6869 - val_binary_accuracy: 0.5888\n",
      "Epoch 56/200\n",
      "49/49 [==============================] - 0s 5ms/step - loss: 0.6868 - binary_accuracy: 0.7755 - val_loss: 0.6868 - val_binary_accuracy: 0.5888\n",
      "Epoch 57/200\n",
      "49/49 [==============================] - 0s 5ms/step - loss: 0.6867 - binary_accuracy: 0.7755 - val_loss: 0.6868 - val_binary_accuracy: 0.5888\n",
      "Epoch 58/200\n",
      "49/49 [==============================] - 0s 6ms/step - loss: 0.6866 - binary_accuracy: 0.7755 - val_loss: 0.6868 - val_binary_accuracy: 0.5888\n",
      "Epoch 59/200\n",
      "49/49 [==============================] - 0s 6ms/step - loss: 0.6865 - binary_accuracy: 0.7959 - val_loss: 0.6867 - val_binary_accuracy: 0.5888\n",
      "Epoch 60/200\n",
      "49/49 [==============================] - 0s 6ms/step - loss: 0.6864 - binary_accuracy: 0.7959 - val_loss: 0.6867 - val_binary_accuracy: 0.5888\n",
      "Epoch 61/200\n",
      "49/49 [==============================] - 0s 6ms/step - loss: 0.6863 - binary_accuracy: 0.7959 - val_loss: 0.6867 - val_binary_accuracy: 0.5888\n",
      "Epoch 62/200\n",
      "49/49 [==============================] - 0s 5ms/step - loss: 0.6862 - binary_accuracy: 0.8163 - val_loss: 0.6866 - val_binary_accuracy: 0.5888\n",
      "Epoch 63/200\n",
      "49/49 [==============================] - 0s 6ms/step - loss: 0.6861 - binary_accuracy: 0.8163 - val_loss: 0.6866 - val_binary_accuracy: 0.5888\n",
      "Epoch 64/200\n",
      "49/49 [==============================] - 0s 6ms/step - loss: 0.6860 - binary_accuracy: 0.8163 - val_loss: 0.6866 - val_binary_accuracy: 0.5888\n",
      "Epoch 65/200\n",
      "49/49 [==============================] - 0s 5ms/step - loss: 0.6859 - binary_accuracy: 0.8163 - val_loss: 0.6865 - val_binary_accuracy: 0.5888\n",
      "Epoch 66/200\n",
      "49/49 [==============================] - 0s 6ms/step - loss: 0.6858 - binary_accuracy: 0.8163 - val_loss: 0.6865 - val_binary_accuracy: 0.5888\n",
      "Epoch 67/200\n",
      "49/49 [==============================] - 0s 5ms/step - loss: 0.6857 - binary_accuracy: 0.8367 - val_loss: 0.6865 - val_binary_accuracy: 0.5888\n",
      "Epoch 68/200\n",
      "49/49 [==============================] - 0s 6ms/step - loss: 0.6856 - binary_accuracy: 0.8367 - val_loss: 0.6864 - val_binary_accuracy: 0.5888\n",
      "Epoch 69/200\n",
      "49/49 [==============================] - 0s 6ms/step - loss: 0.6855 - binary_accuracy: 0.8367 - val_loss: 0.6864 - val_binary_accuracy: 0.5888\n",
      "Epoch 70/200\n",
      "49/49 [==============================] - 0s 6ms/step - loss: 0.6854 - binary_accuracy: 0.8367 - val_loss: 0.6864 - val_binary_accuracy: 0.6711\n",
      "Epoch 71/200\n",
      "49/49 [==============================] - 0s 6ms/step - loss: 0.6853 - binary_accuracy: 0.8367 - val_loss: 0.6863 - val_binary_accuracy: 0.6711\n",
      "Epoch 72/200\n",
      "49/49 [==============================] - 0s 6ms/step - loss: 0.6852 - binary_accuracy: 0.8367 - val_loss: 0.6863 - val_binary_accuracy: 0.6711\n",
      "Epoch 73/200\n",
      "49/49 [==============================] - 0s 5ms/step - loss: 0.6851 - binary_accuracy: 0.8367 - val_loss: 0.6862 - val_binary_accuracy: 0.6711\n",
      "Epoch 74/200\n",
      "49/49 [==============================] - 0s 6ms/step - loss: 0.6850 - binary_accuracy: 0.8367 - val_loss: 0.6862 - val_binary_accuracy: 0.6711\n",
      "Epoch 75/200\n",
      "49/49 [==============================] - 0s 6ms/step - loss: 0.6849 - binary_accuracy: 0.8367 - val_loss: 0.6862 - val_binary_accuracy: 0.6711\n",
      "Epoch 76/200\n",
      "49/49 [==============================] - 0s 6ms/step - loss: 0.6848 - binary_accuracy: 0.8367 - val_loss: 0.6861 - val_binary_accuracy: 0.6711\n",
      "Epoch 77/200\n",
      "49/49 [==============================] - 0s 6ms/step - loss: 0.6847 - binary_accuracy: 0.8367 - val_loss: 0.6861 - val_binary_accuracy: 0.6711\n",
      "Epoch 78/200\n",
      "49/49 [==============================] - 0s 6ms/step - loss: 0.6846 - binary_accuracy: 0.8367 - val_loss: 0.6861 - val_binary_accuracy: 0.6711\n",
      "Epoch 79/200\n",
      "49/49 [==============================] - 0s 6ms/step - loss: 0.6845 - binary_accuracy: 0.8367 - val_loss: 0.6860 - val_binary_accuracy: 0.6711\n",
      "Epoch 80/200\n",
      "49/49 [==============================] - 0s 6ms/step - loss: 0.6844 - binary_accuracy: 0.8367 - val_loss: 0.6860 - val_binary_accuracy: 0.6711\n",
      "Epoch 81/200\n",
      "49/49 [==============================] - 0s 6ms/step - loss: 0.6843 - binary_accuracy: 0.8367 - val_loss: 0.6860 - val_binary_accuracy: 0.6711\n",
      "Epoch 82/200\n",
      "49/49 [==============================] - 0s 6ms/step - loss: 0.6842 - binary_accuracy: 0.8367 - val_loss: 0.6859 - val_binary_accuracy: 0.6711\n",
      "Epoch 83/200\n",
      "49/49 [==============================] - 0s 6ms/step - loss: 0.6841 - binary_accuracy: 0.8367 - val_loss: 0.6859 - val_binary_accuracy: 0.6711\n",
      "Epoch 84/200\n",
      "49/49 [==============================] - 0s 6ms/step - loss: 0.6840 - binary_accuracy: 0.8367 - val_loss: 0.6859 - val_binary_accuracy: 0.6711\n",
      "Epoch 85/200\n",
      "49/49 [==============================] - 0s 6ms/step - loss: 0.6839 - binary_accuracy: 0.8367 - val_loss: 0.6858 - val_binary_accuracy: 0.6711\n",
      "Epoch 86/200\n",
      "49/49 [==============================] - 0s 6ms/step - loss: 0.6839 - binary_accuracy: 0.8367 - val_loss: 0.6858 - val_binary_accuracy: 0.6711\n",
      "Epoch 87/200\n",
      "49/49 [==============================] - 0s 6ms/step - loss: 0.6838 - binary_accuracy: 0.8367 - val_loss: 0.6858 - val_binary_accuracy: 0.6711\n",
      "Epoch 88/200\n",
      "49/49 [==============================] - 0s 6ms/step - loss: 0.6837 - binary_accuracy: 0.8367 - val_loss: 0.6857 - val_binary_accuracy: 0.6711\n",
      "Epoch 89/200\n",
      "49/49 [==============================] - 0s 6ms/step - loss: 0.6836 - binary_accuracy: 0.8571 - val_loss: 0.6857 - val_binary_accuracy: 0.6711\n",
      "Epoch 90/200\n",
      "49/49 [==============================] - 0s 6ms/step - loss: 0.6835 - binary_accuracy: 0.8571 - val_loss: 0.6857 - val_binary_accuracy: 0.6711\n",
      "Epoch 91/200\n",
      "49/49 [==============================] - 0s 5ms/step - loss: 0.6834 - binary_accuracy: 0.8571 - val_loss: 0.6856 - val_binary_accuracy: 0.6711\n",
      "Epoch 92/200\n",
      "49/49 [==============================] - 0s 6ms/step - loss: 0.6833 - binary_accuracy: 0.8571 - val_loss: 0.6856 - val_binary_accuracy: 0.6711\n",
      "Epoch 93/200\n",
      "49/49 [==============================] - 0s 6ms/step - loss: 0.6832 - binary_accuracy: 0.8571 - val_loss: 0.6856 - val_binary_accuracy: 0.6711\n",
      "Epoch 94/200\n",
      "49/49 [==============================] - 0s 6ms/step - loss: 0.6831 - binary_accuracy: 0.8571 - val_loss: 0.6855 - val_binary_accuracy: 0.6711\n",
      "Epoch 95/200\n",
      "49/49 [==============================] - 0s 6ms/step - loss: 0.6830 - binary_accuracy: 0.8571 - val_loss: 0.6855 - val_binary_accuracy: 0.6711\n",
      "Epoch 96/200\n",
      "49/49 [==============================] - 0s 6ms/step - loss: 0.6829 - binary_accuracy: 0.8571 - val_loss: 0.6855 - val_binary_accuracy: 0.6711\n",
      "Epoch 97/200\n",
      "49/49 [==============================] - 0s 6ms/step - loss: 0.6828 - binary_accuracy: 0.8571 - val_loss: 0.6855 - val_binary_accuracy: 0.6711\n",
      "Epoch 98/200\n",
      "49/49 [==============================] - 0s 6ms/step - loss: 0.6827 - binary_accuracy: 0.8571 - val_loss: 0.6854 - val_binary_accuracy: 0.6711\n",
      "Epoch 99/200\n",
      "49/49 [==============================] - 0s 5ms/step - loss: 0.6826 - binary_accuracy: 0.8571 - val_loss: 0.6854 - val_binary_accuracy: 0.6711\n",
      "Epoch 100/200\n",
      "49/49 [==============================] - 0s 6ms/step - loss: 0.6825 - binary_accuracy: 0.8775 - val_loss: 0.6854 - val_binary_accuracy: 0.6711\n",
      "Epoch 101/200\n",
      "49/49 [==============================] - 0s 7ms/step - loss: 0.6824 - binary_accuracy: 0.8775 - val_loss: 0.6853 - val_binary_accuracy: 0.6711\n",
      "Epoch 102/200\n",
      "49/49 [==============================] - 0s 6ms/step - loss: 0.6823 - binary_accuracy: 0.8775 - val_loss: 0.6853 - val_binary_accuracy: 0.6711\n",
      "Epoch 103/200\n",
      "49/49 [==============================] - 0s 6ms/step - loss: 0.6822 - binary_accuracy: 0.8775 - val_loss: 0.6853 - val_binary_accuracy: 0.6711\n",
      "Epoch 104/200\n",
      "49/49 [==============================] - 0s 6ms/step - loss: 0.6821 - binary_accuracy: 0.8775 - val_loss: 0.6853 - val_binary_accuracy: 0.6711\n",
      "Epoch 105/200\n"
     ]
    },
    {
     "name": "stdout",
     "output_type": "stream",
     "text": [
      "49/49 [==============================] - 0s 7ms/step - loss: 0.6820 - binary_accuracy: 0.8979 - val_loss: 0.6852 - val_binary_accuracy: 0.6711\n",
      "Epoch 106/200\n",
      "49/49 [==============================] - 0s 6ms/step - loss: 0.6819 - binary_accuracy: 0.8979 - val_loss: 0.6852 - val_binary_accuracy: 0.6711\n",
      "Epoch 107/200\n",
      "49/49 [==============================] - 0s 6ms/step - loss: 0.6818 - binary_accuracy: 0.8979 - val_loss: 0.6852 - val_binary_accuracy: 0.6711\n",
      "Epoch 108/200\n",
      "49/49 [==============================] - 0s 6ms/step - loss: 0.6817 - binary_accuracy: 0.8979 - val_loss: 0.6851 - val_binary_accuracy: 0.6711\n",
      "Epoch 109/200\n",
      "49/49 [==============================] - 0s 6ms/step - loss: 0.6816 - binary_accuracy: 0.8979 - val_loss: 0.6851 - val_binary_accuracy: 0.6711\n",
      "Epoch 110/200\n",
      "49/49 [==============================] - 0s 6ms/step - loss: 0.6815 - binary_accuracy: 0.8979 - val_loss: 0.6851 - val_binary_accuracy: 0.6711\n",
      "Epoch 111/200\n",
      "49/49 [==============================] - 0s 6ms/step - loss: 0.6814 - binary_accuracy: 0.8979 - val_loss: 0.6850 - val_binary_accuracy: 0.6711\n",
      "Epoch 112/200\n",
      "49/49 [==============================] - 0s 6ms/step - loss: 0.6813 - binary_accuracy: 0.8979 - val_loss: 0.6850 - val_binary_accuracy: 0.6711\n",
      "Epoch 113/200\n",
      "49/49 [==============================] - 0s 6ms/step - loss: 0.6812 - binary_accuracy: 0.8979 - val_loss: 0.6850 - val_binary_accuracy: 0.6711\n",
      "Epoch 114/200\n",
      "49/49 [==============================] - 0s 6ms/step - loss: 0.6811 - binary_accuracy: 0.8979 - val_loss: 0.6850 - val_binary_accuracy: 0.6711\n",
      "Epoch 115/200\n",
      "49/49 [==============================] - 0s 6ms/step - loss: 0.6810 - binary_accuracy: 0.8979 - val_loss: 0.6849 - val_binary_accuracy: 0.6711\n",
      "Epoch 116/200\n",
      "49/49 [==============================] - 0s 6ms/step - loss: 0.6809 - binary_accuracy: 0.8979 - val_loss: 0.6849 - val_binary_accuracy: 0.6711\n",
      "Epoch 117/200\n",
      "49/49 [==============================] - 0s 6ms/step - loss: 0.6808 - binary_accuracy: 0.8979 - val_loss: 0.6849 - val_binary_accuracy: 0.6711\n",
      "Epoch 118/200\n",
      "49/49 [==============================] - 0s 6ms/step - loss: 0.6807 - binary_accuracy: 0.8979 - val_loss: 0.6848 - val_binary_accuracy: 0.6711\n",
      "Epoch 119/200\n",
      "49/49 [==============================] - 0s 6ms/step - loss: 0.6806 - binary_accuracy: 0.8979 - val_loss: 0.6848 - val_binary_accuracy: 0.6711\n",
      "Epoch 120/200\n",
      "49/49 [==============================] - 0s 6ms/step - loss: 0.6805 - binary_accuracy: 0.8979 - val_loss: 0.6848 - val_binary_accuracy: 0.6711\n",
      "Epoch 121/200\n",
      "49/49 [==============================] - 0s 6ms/step - loss: 0.6804 - binary_accuracy: 0.8979 - val_loss: 0.6847 - val_binary_accuracy: 0.6711\n",
      "Epoch 122/200\n",
      "49/49 [==============================] - 0s 6ms/step - loss: 0.6803 - binary_accuracy: 0.8979 - val_loss: 0.6847 - val_binary_accuracy: 0.6711\n",
      "Epoch 123/200\n",
      "49/49 [==============================] - 0s 6ms/step - loss: 0.6802 - binary_accuracy: 0.8979 - val_loss: 0.6847 - val_binary_accuracy: 0.6711\n",
      "Epoch 124/200\n",
      "49/49 [==============================] - 0s 6ms/step - loss: 0.6801 - binary_accuracy: 0.8979 - val_loss: 0.6846 - val_binary_accuracy: 0.6711\n",
      "Epoch 125/200\n",
      "49/49 [==============================] - 0s 6ms/step - loss: 0.6800 - binary_accuracy: 0.8979 - val_loss: 0.6846 - val_binary_accuracy: 0.6711\n",
      "Epoch 126/200\n",
      "49/49 [==============================] - 0s 6ms/step - loss: 0.6799 - binary_accuracy: 0.8979 - val_loss: 0.6845 - val_binary_accuracy: 0.6711\n",
      "Epoch 127/200\n",
      "49/49 [==============================] - 0s 6ms/step - loss: 0.6798 - binary_accuracy: 0.8979 - val_loss: 0.6845 - val_binary_accuracy: 0.6711\n",
      "Epoch 128/200\n",
      "49/49 [==============================] - 0s 5ms/step - loss: 0.6797 - binary_accuracy: 0.8979 - val_loss: 0.6845 - val_binary_accuracy: 0.6711\n",
      "Epoch 129/200\n",
      "49/49 [==============================] - 0s 6ms/step - loss: 0.6796 - binary_accuracy: 0.8979 - val_loss: 0.6844 - val_binary_accuracy: 0.6711\n",
      "Epoch 130/200\n",
      "49/49 [==============================] - 0s 6ms/step - loss: 0.6795 - binary_accuracy: 0.8979 - val_loss: 0.6844 - val_binary_accuracy: 0.6711\n",
      "Epoch 131/200\n",
      "49/49 [==============================] - 0s 7ms/step - loss: 0.6794 - binary_accuracy: 0.8979 - val_loss: 0.6844 - val_binary_accuracy: 0.6711\n",
      "Epoch 132/200\n",
      "49/49 [==============================] - 0s 7ms/step - loss: 0.6793 - binary_accuracy: 0.8979 - val_loss: 0.6843 - val_binary_accuracy: 0.6711\n",
      "Epoch 133/200\n",
      "49/49 [==============================] - 0s 6ms/step - loss: 0.6792 - binary_accuracy: 0.8979 - val_loss: 0.6843 - val_binary_accuracy: 0.6711\n",
      "Epoch 134/200\n",
      "49/49 [==============================] - 0s 6ms/step - loss: 0.6791 - binary_accuracy: 0.8979 - val_loss: 0.6843 - val_binary_accuracy: 0.6711\n",
      "Epoch 135/200\n",
      "49/49 [==============================] - 0s 6ms/step - loss: 0.6790 - binary_accuracy: 0.8979 - val_loss: 0.6842 - val_binary_accuracy: 0.6711\n",
      "Epoch 136/200\n",
      "49/49 [==============================] - 0s 6ms/step - loss: 0.6789 - binary_accuracy: 0.8979 - val_loss: 0.6842 - val_binary_accuracy: 0.6711\n",
      "Epoch 137/200\n",
      "49/49 [==============================] - 0s 6ms/step - loss: 0.6788 - binary_accuracy: 0.8979 - val_loss: 0.6841 - val_binary_accuracy: 0.6711\n",
      "Epoch 138/200\n",
      "49/49 [==============================] - 0s 6ms/step - loss: 0.6787 - binary_accuracy: 0.8979 - val_loss: 0.6841 - val_binary_accuracy: 0.6711\n",
      "Epoch 139/200\n",
      "49/49 [==============================] - 0s 6ms/step - loss: 0.6786 - binary_accuracy: 0.8979 - val_loss: 0.6841 - val_binary_accuracy: 0.6711\n",
      "Epoch 140/200\n",
      "49/49 [==============================] - 0s 5ms/step - loss: 0.6785 - binary_accuracy: 0.8979 - val_loss: 0.6840 - val_binary_accuracy: 0.6711\n",
      "Epoch 141/200\n",
      "49/49 [==============================] - 0s 6ms/step - loss: 0.6783 - binary_accuracy: 0.8979 - val_loss: 0.6840 - val_binary_accuracy: 0.6711\n",
      "Epoch 142/200\n",
      "49/49 [==============================] - 0s 6ms/step - loss: 0.6782 - binary_accuracy: 0.8979 - val_loss: 0.6840 - val_binary_accuracy: 0.6711\n",
      "Epoch 143/200\n",
      "49/49 [==============================] - 0s 6ms/step - loss: 0.6781 - binary_accuracy: 0.8979 - val_loss: 0.6839 - val_binary_accuracy: 0.6711\n",
      "Epoch 144/200\n",
      "49/49 [==============================] - 0s 6ms/step - loss: 0.6780 - binary_accuracy: 0.8979 - val_loss: 0.6839 - val_binary_accuracy: 0.6711\n",
      "Epoch 145/200\n",
      "49/49 [==============================] - 0s 6ms/step - loss: 0.6779 - binary_accuracy: 0.8979 - val_loss: 0.6839 - val_binary_accuracy: 0.6711\n",
      "Epoch 146/200\n",
      "49/49 [==============================] - 0s 6ms/step - loss: 0.6778 - binary_accuracy: 0.8979 - val_loss: 0.6838 - val_binary_accuracy: 0.6711\n",
      "Epoch 147/200\n",
      "49/49 [==============================] - 0s 5ms/step - loss: 0.6777 - binary_accuracy: 0.8979 - val_loss: 0.6838 - val_binary_accuracy: 0.6711\n",
      "Epoch 148/200\n",
      "49/49 [==============================] - 0s 6ms/step - loss: 0.6776 - binary_accuracy: 0.8979 - val_loss: 0.6838 - val_binary_accuracy: 0.6711\n",
      "Epoch 149/200\n",
      "49/49 [==============================] - 0s 6ms/step - loss: 0.6775 - binary_accuracy: 0.8979 - val_loss: 0.6837 - val_binary_accuracy: 0.6711\n",
      "Epoch 150/200\n",
      "49/49 [==============================] - 0s 6ms/step - loss: 0.6774 - binary_accuracy: 0.8979 - val_loss: 0.6837 - val_binary_accuracy: 0.6711\n",
      "Epoch 151/200\n",
      "49/49 [==============================] - 0s 6ms/step - loss: 0.6772 - binary_accuracy: 0.8979 - val_loss: 0.6837 - val_binary_accuracy: 0.6711\n",
      "Epoch 152/200\n",
      "49/49 [==============================] - 0s 6ms/step - loss: 0.6771 - binary_accuracy: 0.8979 - val_loss: 0.6836 - val_binary_accuracy: 0.6711\n",
      "Epoch 153/200\n",
      "49/49 [==============================] - 0s 6ms/step - loss: 0.6770 - binary_accuracy: 0.8979 - val_loss: 0.6836 - val_binary_accuracy: 0.6711\n",
      "Epoch 154/200\n",
      "49/49 [==============================] - 0s 5ms/step - loss: 0.6769 - binary_accuracy: 0.8979 - val_loss: 0.6836 - val_binary_accuracy: 0.6711\n",
      "Epoch 155/200\n",
      "49/49 [==============================] - 0s 6ms/step - loss: 0.6768 - binary_accuracy: 0.8979 - val_loss: 0.6835 - val_binary_accuracy: 0.6711\n",
      "Epoch 156/200\n",
      "49/49 [==============================] - 0s 5ms/step - loss: 0.6767 - binary_accuracy: 0.8979 - val_loss: 0.6835 - val_binary_accuracy: 0.6711\n",
      "Epoch 157/200\n",
      "49/49 [==============================] - 0s 6ms/step - loss: 0.6766 - binary_accuracy: 0.8979 - val_loss: 0.6835 - val_binary_accuracy: 0.6711\n",
      "Epoch 158/200\n",
      "49/49 [==============================] - 0s 5ms/step - loss: 0.6765 - binary_accuracy: 0.8979 - val_loss: 0.6834 - val_binary_accuracy: 0.6711\n",
      "Epoch 159/200\n",
      "49/49 [==============================] - 0s 5ms/step - loss: 0.6763 - binary_accuracy: 0.8979 - val_loss: 0.6834 - val_binary_accuracy: 0.6711\n",
      "Epoch 160/200\n",
      "49/49 [==============================] - 0s 5ms/step - loss: 0.6762 - binary_accuracy: 0.8979 - val_loss: 0.6834 - val_binary_accuracy: 0.6711\n",
      "Epoch 161/200\n",
      "49/49 [==============================] - 0s 5ms/step - loss: 0.6761 - binary_accuracy: 0.8979 - val_loss: 0.6833 - val_binary_accuracy: 0.6711\n",
      "Epoch 162/200\n",
      "49/49 [==============================] - 0s 7ms/step - loss: 0.6760 - binary_accuracy: 0.8979 - val_loss: 0.6833 - val_binary_accuracy: 0.6711\n",
      "Epoch 163/200\n",
      "49/49 [==============================] - 0s 6ms/step - loss: 0.6759 - binary_accuracy: 0.8979 - val_loss: 0.6833 - val_binary_accuracy: 0.6711\n",
      "Epoch 164/200\n",
      "49/49 [==============================] - 0s 6ms/step - loss: 0.6758 - binary_accuracy: 0.8979 - val_loss: 0.6833 - val_binary_accuracy: 0.6711\n",
      "Epoch 165/200\n",
      "49/49 [==============================] - 0s 5ms/step - loss: 0.6757 - binary_accuracy: 0.8979 - val_loss: 0.6832 - val_binary_accuracy: 0.6711\n",
      "Epoch 166/200\n",
      "49/49 [==============================] - 0s 5ms/step - loss: 0.6755 - binary_accuracy: 0.8979 - val_loss: 0.6832 - val_binary_accuracy: 0.6711\n",
      "Epoch 167/200\n",
      "49/49 [==============================] - 0s 6ms/step - loss: 0.6754 - binary_accuracy: 0.8979 - val_loss: 0.6832 - val_binary_accuracy: 0.6711\n",
      "Epoch 168/200\n",
      "49/49 [==============================] - 0s 6ms/step - loss: 0.6753 - binary_accuracy: 0.8979 - val_loss: 0.6831 - val_binary_accuracy: 0.6711\n",
      "Epoch 169/200\n",
      "49/49 [==============================] - 0s 5ms/step - loss: 0.6752 - binary_accuracy: 0.8979 - val_loss: 0.6831 - val_binary_accuracy: 0.6711\n",
      "Epoch 170/200\n",
      "49/49 [==============================] - 0s 6ms/step - loss: 0.6751 - binary_accuracy: 0.8979 - val_loss: 0.6831 - val_binary_accuracy: 0.6711\n",
      "Epoch 171/200\n",
      "49/49 [==============================] - 0s 5ms/step - loss: 0.6750 - binary_accuracy: 0.8979 - val_loss: 0.6830 - val_binary_accuracy: 0.6711\n",
      "Epoch 172/200\n",
      "49/49 [==============================] - 0s 5ms/step - loss: 0.6748 - binary_accuracy: 0.8979 - val_loss: 0.6830 - val_binary_accuracy: 0.6711\n",
      "Epoch 173/200\n",
      "49/49 [==============================] - 0s 6ms/step - loss: 0.6747 - binary_accuracy: 0.8979 - val_loss: 0.6830 - val_binary_accuracy: 0.6711\n",
      "Epoch 174/200\n",
      "49/49 [==============================] - 0s 5ms/step - loss: 0.6746 - binary_accuracy: 0.8979 - val_loss: 0.6829 - val_binary_accuracy: 0.6711\n",
      "Epoch 175/200\n",
      "49/49 [==============================] - 0s 6ms/step - loss: 0.6745 - binary_accuracy: 0.8979 - val_loss: 0.6829 - val_binary_accuracy: 0.6711\n",
      "Epoch 176/200\n",
      "49/49 [==============================] - 0s 5ms/step - loss: 0.6743 - binary_accuracy: 0.8979 - val_loss: 0.6829 - val_binary_accuracy: 0.6711\n",
      "Epoch 177/200\n",
      "49/49 [==============================] - 0s 5ms/step - loss: 0.6742 - binary_accuracy: 0.8979 - val_loss: 0.6828 - val_binary_accuracy: 0.6711\n",
      "Epoch 178/200\n",
      "49/49 [==============================] - 0s 6ms/step - loss: 0.6741 - binary_accuracy: 0.8979 - val_loss: 0.6828 - val_binary_accuracy: 0.6711\n",
      "Epoch 179/200\n",
      "49/49 [==============================] - 0s 6ms/step - loss: 0.6740 - binary_accuracy: 0.8979 - val_loss: 0.6827 - val_binary_accuracy: 0.6711\n",
      "Epoch 180/200\n",
      "49/49 [==============================] - 0s 6ms/step - loss: 0.6739 - binary_accuracy: 0.8979 - val_loss: 0.6827 - val_binary_accuracy: 0.6711\n",
      "Epoch 181/200\n",
      "49/49 [==============================] - 0s 5ms/step - loss: 0.6737 - binary_accuracy: 0.9184 - val_loss: 0.6827 - val_binary_accuracy: 0.6711\n",
      "Epoch 182/200\n",
      "49/49 [==============================] - 0s 6ms/step - loss: 0.6736 - binary_accuracy: 0.9184 - val_loss: 0.6826 - val_binary_accuracy: 0.6711\n",
      "Epoch 183/200\n",
      "49/49 [==============================] - 0s 6ms/step - loss: 0.6735 - binary_accuracy: 0.9184 - val_loss: 0.6826 - val_binary_accuracy: 0.6711\n",
      "Epoch 184/200\n",
      "49/49 [==============================] - 0s 6ms/step - loss: 0.6734 - binary_accuracy: 0.9184 - val_loss: 0.6825 - val_binary_accuracy: 0.6711\n",
      "Epoch 185/200\n",
      "49/49 [==============================] - 0s 5ms/step - loss: 0.6732 - binary_accuracy: 0.9184 - val_loss: 0.6825 - val_binary_accuracy: 0.6711\n",
      "Epoch 186/200\n",
      "49/49 [==============================] - 0s 6ms/step - loss: 0.6731 - binary_accuracy: 0.9184 - val_loss: 0.6825 - val_binary_accuracy: 0.6711\n",
      "Epoch 187/200\n",
      "49/49 [==============================] - 0s 5ms/step - loss: 0.6730 - binary_accuracy: 0.9184 - val_loss: 0.6824 - val_binary_accuracy: 0.6711\n",
      "Epoch 188/200\n",
      "49/49 [==============================] - 0s 6ms/step - loss: 0.6729 - binary_accuracy: 0.9184 - val_loss: 0.6824 - val_binary_accuracy: 0.6711\n",
      "Epoch 189/200\n",
      "49/49 [==============================] - 0s 6ms/step - loss: 0.6727 - binary_accuracy: 0.9184 - val_loss: 0.6824 - val_binary_accuracy: 0.6711\n",
      "Epoch 190/200\n",
      "49/49 [==============================] - 0s 5ms/step - loss: 0.6726 - binary_accuracy: 0.9184 - val_loss: 0.6823 - val_binary_accuracy: 0.6711\n",
      "Epoch 191/200\n",
      "49/49 [==============================] - 0s 6ms/step - loss: 0.6725 - binary_accuracy: 0.9184 - val_loss: 0.6823 - val_binary_accuracy: 0.6711\n",
      "Epoch 192/200\n",
      "49/49 [==============================] - 0s 5ms/step - loss: 0.6724 - binary_accuracy: 0.9388 - val_loss: 0.6822 - val_binary_accuracy: 0.6711\n",
      "Epoch 193/200\n",
      "49/49 [==============================] - 0s 6ms/step - loss: 0.6722 - binary_accuracy: 0.9388 - val_loss: 0.6822 - val_binary_accuracy: 0.6711\n",
      "Epoch 194/200\n",
      "49/49 [==============================] - 0s 5ms/step - loss: 0.6721 - binary_accuracy: 0.9388 - val_loss: 0.6822 - val_binary_accuracy: 0.6711\n",
      "Epoch 195/200\n",
      "49/49 [==============================] - 0s 5ms/step - loss: 0.6720 - binary_accuracy: 0.9388 - val_loss: 0.6821 - val_binary_accuracy: 0.6711\n",
      "Epoch 196/200\n",
      "49/49 [==============================] - 0s 5ms/step - loss: 0.6718 - binary_accuracy: 0.9388 - val_loss: 0.6821 - val_binary_accuracy: 0.6711\n",
      "Epoch 197/200\n",
      "49/49 [==============================] - 0s 6ms/step - loss: 0.6717 - binary_accuracy: 0.9388 - val_loss: 0.6821 - val_binary_accuracy: 0.6711\n",
      "Epoch 198/200\n",
      "49/49 [==============================] - 0s 5ms/step - loss: 0.6716 - binary_accuracy: 0.9388 - val_loss: 0.6820 - val_binary_accuracy: 0.6711\n",
      "Epoch 199/200\n",
      "49/49 [==============================] - 0s 5ms/step - loss: 0.6714 - binary_accuracy: 0.9388 - val_loss: 0.6820 - val_binary_accuracy: 0.6711\n",
      "Epoch 200/200\n",
      "49/49 [==============================] - 0s 6ms/step - loss: 0.6713 - binary_accuracy: 0.9388 - val_loss: 0.6819 - val_binary_accuracy: 0.6711\n"
     ]
    }
   ],
   "source": [
    "history = model.fit_generator(\n",
    "    data_gen(train_list, batch_size),\n",
    "    steps_per_epoch=int(np.ceil(len(train_list) / batch_size)),\n",
    "    validation_data=data_gen(valid_list, batch_size),\n",
    "    validation_steps=int(np.ceil(len(valid_list) / batch_size)),\n",
    "    epochs=200, shuffle=True)"
   ]
  },
  {
   "cell_type": "code",
   "execution_count": null,
   "metadata": {},
   "outputs": [
    {
     "name": "stdout",
     "output_type": "stream",
     "text": [
      "1518/1518 [==============================] - 0s 43us/step\n",
      "1792/1792 [==============================] - 0s 39us/step\n",
      "Group: 52.5\tTotal: 56.08\n"
     ]
    }
   ],
   "source": [
    "print('Group: %s\\tTotal: %s' % (round(model.evaluate(group_data, group_label, batch_size=batch_size)[1] * 100, 2),\n",
    "                                round(model.evaluate(data, label, batch_size=batch_size)[1] * 100, 2)))"
   ]
  },
  {
   "cell_type": "code",
   "execution_count": null,
   "metadata": {
    "collapsed": true
   },
   "outputs": [],
   "source": [
    "train_id = [s in train_list for s in group_sub]\n",
    "valid_id = [s in valid_list for s in group_sub]"
   ]
  },
  {
   "cell_type": "code",
   "execution_count": null,
   "metadata": {},
   "outputs": [
    {
     "name": "stdout",
     "output_type": "stream",
     "text": [
      "1214/1214 [==============================] - 0s 38us/step\n",
      "304/304 [==============================] - 0s 49us/step\n",
      "Train: 53.05\tValid: 50.33\n"
     ]
    }
   ],
   "source": [
    "print('Train: %s\\tValid: %s' % (round(model.evaluate(group_data[train_id], group_label[train_id], batch_size=batch_size)[1] * 100, 2),\n",
    "                                round(model.evaluate(group_data[valid_id], group_label[valid_id], batch_size=batch_size)[1] * 100, 2)))"
   ]
  },
  {
   "cell_type": "markdown",
   "metadata": {},
   "source": [
    "# Visualize results"
   ]
  },
  {
   "cell_type": "code",
   "execution_count": null,
   "metadata": {
    "collapsed": true
   },
   "outputs": [],
   "source": [
    "%matplotlib inline\n",
    "import matplotlib.pyplot as plt"
   ]
  },
  {
   "cell_type": "code",
   "execution_count": null,
   "metadata": {},
   "outputs": [
    {
     "data": {
      "text/plain": [
       "<matplotlib.legend.Legend at 0x7f92031116d8>"
      ]
     },
     "execution_count": null,
     "metadata": {},
     "output_type": "execute_result"
    },
    {
     "data": {
      "image/png": "[encoded data removed]",
      "text/plain": [
       "<Figure size 432x288 with 1 Axes>"
      ]
     },
     "metadata": {},
     "output_type": "display_data"
    }
   ],
   "source": [
    "plt.style.use('fivethirtyeight')\n",
    "plt.plot(history.history['binary_accuracy'], label='Training accuracy')\n",
    "plt.plot(history.history['val_binary_accuracy'], label='Testing accuracy')\n",
    "plt.ylim([0,1])\n",
    "plt.xlabel('Epoch')\n",
    "plt.ylabel('Accuracy')\n",
    "plt.legend(loc=4)"
   ]
  },
  {
   "cell_type": "code",
   "execution_count": null,
   "metadata": {},
   "outputs": [
    {
     "data": {
      "text/plain": [
       "<matplotlib.legend.Legend at 0x7f92027c8b38>"
      ]
     },
     "execution_count": null,
     "metadata": {},
     "output_type": "execute_result"
    },
    {
     "data": {
      "image/png": "[encoded data removed]",
      "text/plain": [
       "<Figure size 432x288 with 1 Axes>"
      ]
     },
     "metadata": {},
     "output_type": "display_data"
    }
   ],
   "source": [
    "plt.style.use('fivethirtyeight')\n",
    "plt.plot(history.history['loss'], label='Training Loss')\n",
    "plt.plot(history.history['val_loss'], label='Testing Loss')\n",
    "plt.xlabel('Epoch')\n",
    "plt.ylabel('Loss')\n",
    "plt.legend(loc=4)"
   ]
  },
  {
   "cell_type": "markdown",
   "metadata": {},
   "source": [
    "# Save really good models"
   ]
  },
  {
   "cell_type": "code",
   "execution_count": null,
   "metadata": {
    "collapsed": true
   },
   "outputs": [],
   "source": [
    "version = 98\n",
    "model.save('model_1D_g%s_v%03d.h5' % (group_id, version))\n",
    "with open('./trainHistory_1D_g%s_v%03d' % (group_id, version), 'wb') as file_pi:\n",
    "    pickle.dump(history.history, file_pi)"
   ]
  },
  {
   "cell_type": "markdown",
   "metadata": {},
   "source": [
    "# Load a model and validate it against the whole dataset"
   ]
  },
  {
   "cell_type": "code",
   "execution_count": null,
   "metadata": {},
   "outputs": [
    {
     "name": "stdout",
     "output_type": "stream",
     "text": [
      "_________________________________________________________________\n",
      "Layer (type)                 Output Shape              Param #   \n",
      "=================================================================\n",
      "input (Dense)                (None, 64)                8128      \n",
      "_________________________________________________________________\n",
      "hidden-4 (Dense)             (None, 64)                4160      \n",
      "_________________________________________________________________\n",
      "hidden-3 (Dense)             (None, 64)                4160      \n",
      "_________________________________________________________________\n",
      "drop-2 (Dropout)             (None, 64)                0         \n",
      "_________________________________________________________________\n",
      "hidden-2 (Dense)             (None, 32)                2080      \n",
      "_________________________________________________________________\n",
      "drop-1 (Dropout)             (None, 32)                0         \n",
      "_________________________________________________________________\n",
      "hidden-1 (Dense)             (None, 32)                1056      \n",
      "_________________________________________________________________\n",
      "output (Dense)               (None, 1)                 33        \n",
      "=================================================================\n",
      "Total params: 19,617\n",
      "Trainable params: 19,617\n",
      "Non-trainable params: 0\n",
      "_________________________________________________________________\n"
     ]
    }
   ],
   "source": [
    "model = models.load_model('model_1D_g23_v006.h5')\n",
    "model.summary()"
   ]
  },
  {
   "cell_type": "code",
   "execution_count": null,
   "metadata": {},
   "outputs": [
    {
     "name": "stdout",
     "output_type": "stream",
     "text": [
      "1510/1510 [==============================] - 0s 128us/step\n",
      "1784/1784 [==============================] - 0s 12us/step\n",
      "Group: 50.0\tTotal: 57.68\n"
     ]
    }
   ],
   "source": [
    "print('Group: %s\\tTotal: %s' % (round(model.evaluate(group_data, group_label, batch_size=batch_size)[1] * 100, 2),\n",
    "                                round(model.evaluate(data, label, batch_size=batch_size)[1] * 100, 2)))"
   ]
  },
  {
   "cell_type": "code",
   "execution_count": null,
   "metadata": {},
   "outputs": [
    {
     "name": "stdout",
     "output_type": "stream",
     "text": [
      "1208/1208 [==============================] - 0s 11us/step\n",
      "302/302 [==============================] - 0s 21us/step\n",
      "Train: 50.0\tValid: 50.0\n"
     ]
    }
   ],
   "source": [
    "train_id = [s in train_list for s in group_sub]\n",
    "valid_id = [s in valid_list for s in group_sub]\n",
    "print('Train: %s\\tValid: %s' % (round(model.evaluate(group_data[train_id], group_label[train_id], batch_size=batch_size)[1] * 100, 2),\n",
    "                                round(model.evaluate(group_data[valid_id], group_label[valid_id], batch_size=batch_size)[1] * 100, 2)))"
   ]
  }
 ],
 "metadata": {
  "anaconda-cloud": {},
  "kernelspec": {
   "display_name": "Python [default]",
   "language": "python",
   "name": "python3"
  },
  "language_info": {
   "codemirror_mode": {
    "name": "ipython",
    "version": 3
   },
   "file_extension": ".py",
   "mimetype": "text/x-python",
   "name": "python",
   "nbconvert_exporter": "python",
   "pygments_lexer": "ipython3",
   "version": "3.6.4"
  }
 },
 "nbformat": 4,
 "nbformat_minor": 2
}
